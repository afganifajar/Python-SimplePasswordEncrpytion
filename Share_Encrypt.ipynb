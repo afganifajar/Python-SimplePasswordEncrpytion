{
  "nbformat": 4,
  "nbformat_minor": 0,
  "metadata": {
    "colab": {
      "name": "Share_Encrypt.ipynb",
      "provenance": [],
      "collapsed_sections": []
    },
    "kernelspec": {
      "name": "python3",
      "display_name": "Python 3"
    },
    "language_info": {
      "name": "python"
    }
  },
  "cells": [
    {
      "cell_type": "code",
      "metadata": {
        "id": "ejkeT6VeKmKg"
      },
      "source": [
        "import random\n",
        "\n",
        "def createEncryption():\n",
        "  bigChar = 'ABCDEFGHIJKLMNOPQRSTUVWXYZ'\n",
        "  smallChar = 'abcdefghijklmnopqrstuvwxyz'\n",
        "  number = '1234567890'\n",
        "  \n",
        "  passdict = {}\n",
        "  for char in smallChar:\n",
        "    encrypt = \"\"\n",
        "    mix = [bigChar, smallChar, number]\n",
        "    for i in range(len(mix)):\n",
        "      typeChar = random.choice(mix)\n",
        "      mix.remove(typeChar)\n",
        "      encrypt += random.choice(typeChar)\n",
        "    passdict[char] = encrypt\n",
        "  print(passdict)\n",
        "\n",
        "def encrypt(word, withpunc=False):\n",
        "  password = \"\"\n",
        "  passdict = {} # Copy and paste the encryption dictionary that generated from createEncryption() function into this dict. Warning! Never change the dict once you already used one!\n",
        "  for char in word[:4]:\n",
        "    password += passdict[char]\n",
        "  if withpunc == True:\n",
        "    password = password[:-1] + '-'\n",
        "  print(password)\n",
        "\n",
        "def decrypt(password):\n",
        "  word = ''\n",
        "  passdict = {} # Copy and paste the encryption dictionary that generated from createEncryption() function into this dict. Warning! Never change the dict once you already used one!\n",
        "  for i in range(0, len(password), 3):\n",
        "    value = password[i:i+3]\n",
        "    key = [k for k,v in passdict.items() if v == value][0]\n",
        "    word += key\n",
        "  print(word)"
      ],
      "execution_count": 1,
      "outputs": []
    },
    {
      "cell_type": "code",
      "metadata": {
        "id": "k8qoICxZoD4W",
        "colab": {
          "base_uri": "https://localhost:8080/"
        },
        "outputId": "35c04352-b980-4878-c264-c151ec9257b7"
      },
      "source": [
        "createEncryption() # Save the copy of encryption dictionary that you choose to use into your local / drive files in case anything happened!"
      ],
      "execution_count": 2,
      "outputs": [
        {
          "output_type": "stream",
          "name": "stdout",
          "text": [
            "{'a': 'oM9', 'b': '9Be', 'c': 'F6i', 'd': 'sQ7', 'e': 'Ij9', 'f': '6lT', 'g': '2pX', 'h': '2xT', 'i': 'cC2', 'j': 'I3r', 'k': 'O8s', 'l': 'hN1', 'm': '6Cy', 'n': 'V8k', 'o': 'zA1', 'p': 'q3K', 'q': 'K7d', 'r': '4aW', 's': '7Jv', 't': 'Um2', 'u': 'Ys1', 'v': 'yW1', 'w': 'Mr2', 'x': 'nV8', 'y': 'Qt9', 'z': 'qN4'}\n"
          ]
        }
      ]
    },
    {
      "cell_type": "code",
      "metadata": {
        "id": "DK8D7MOEVQoT",
        "colab": {
          "base_uri": "https://localhost:8080/"
        },
        "outputId": "108a1105-8dd6-4683-86ba-0257f8532bf8"
      },
      "source": [
        "encrypt('tokopedia')"
      ],
      "execution_count": 3,
      "outputs": [
        {
          "output_type": "stream",
          "name": "stdout",
          "text": [
            "O5frL89QmrL8\n"
          ]
        }
      ]
    },
    {
      "cell_type": "code",
      "metadata": {
        "id": "81Jh4D5Vni-R",
        "colab": {
          "base_uri": "https://localhost:8080/"
        },
        "outputId": "73349210-683b-47d4-8a59-1ebb20cd3394"
      },
      "source": [
        "decrypt('O5fOp7U4tO5f')"
      ],
      "execution_count": 4,
      "outputs": [
        {
          "output_type": "stream",
          "name": "stdout",
          "text": [
            "twit\n"
          ]
        }
      ]
    }
  ]
}